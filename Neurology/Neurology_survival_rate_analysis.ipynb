{
 "cells": [
  {
   "cell_type": "markdown",
   "metadata": {},
   "source": [
    "# Exercise - Survival function and hazard function\n",
    "- The aim of this exercise is to calculate the survival rate and hazard rate as a function of time, based on a neurology cohort. A better prediction of suvival rate should involve a study of more features \n",
    "- For confidential purpose, this code does not show any other information than needed (no data exploration part)"
   ]
  },
  {
   "cell_type": "code",
   "execution_count": 119,
   "metadata": {},
   "outputs": [],
   "source": [
    "import pandas as pd\n",
    "import numpy as np\n",
    "import os \n",
    "import matplotlib.pyplot as plt\n",
    "import seaborn as sns"
   ]
  },
  {
   "cell_type": "code",
   "execution_count": 120,
   "metadata": {},
   "outputs": [],
   "source": [
    "cwd = os.getcwd()\n",
    "data_bio = pd.read_excel(cwd + r'\\données biologiques.xlsx')\n",
    "data_clinic = pd.read_excel(cwd + r'\\données cliniques.xls')"
   ]
  },
  {
   "cell_type": "markdown",
   "metadata": {},
   "source": [
    "### Data cleanning"
   ]
  },
  {
   "cell_type": "code",
   "execution_count": 121,
   "metadata": {},
   "outputs": [],
   "source": [
    "data0 = data_bio.merge(data_clinic, on ='NIP' )\n",
    "data = data0.replace(to_replace = 'N/C', value = np.nan)\n",
    "data = data.replace(to_replace = 'normal',value = 'Normal')\n",
    "data = data.replace(to_replace = {'non penon perte': 'non perte',\n",
    "                                  'non pertenon perte': 'non perte',\n",
    "                                  'non perte\\nnon perte': 'non perte'})\n",
    "data['chir_date']= pd.to_datetime(data['chir_date']) \n",
    "data.loc[data['date_evolution'] == '2099-12-29', 'date_evolution'] = pd.to_datetime('2009-12-29')\n",
    "data.dropna(subset = ['chir_date'], axis = 0, inplace = True) # drop rows where chir_date is NaN"
   ]
  },
  {
   "cell_type": "markdown",
   "metadata": {},
   "source": [
    "- Add end time of observation  \n",
    "suppose that we can only observe data up until the end of 2013 (we verified that the latest data in the data set is 2013-03-19)"
   ]
  },
  {
   "cell_type": "code",
   "execution_count": 122,
   "metadata": {},
   "outputs": [
    {
     "data": {
      "text/plain": [
       "Timestamp('2013-03-19 00:00:00')"
      ]
     },
     "execution_count": 122,
     "metadata": {},
     "output_type": "execute_result"
    }
   ],
   "source": [
    "data.select_dtypes(include = 'datetime').max().max()"
   ]
  },
  {
   "cell_type": "code",
   "execution_count": 123,
   "metadata": {},
   "outputs": [],
   "source": [
    "end_date = pd.to_datetime('2013-12-31')"
   ]
  },
  {
   "cell_type": "markdown",
   "metadata": {},
   "source": [
    "- There are 3 types of patient: \n",
    "1. patient already dead: days before death known\n",
    "2. patient lost: days before death not known, days before lost known, use days before lost as censoring time \n",
    "3. patient still alive: days before death not known, days before lost not known, in this case, use obs days for the censoring time"
   ]
  },
  {
   "cell_type": "code",
   "execution_count": 124,
   "metadata": {},
   "outputs": [],
   "source": [
    "# create variable 'days before death'\n",
    "data['days_before_death'] = (data['date_deces']-data['chir_date']).dt.days\n",
    "# create variable 'obs_days' for the # days under observation\n",
    "data['obs_days'] = (end_date - data['chir_date']).dt.days\n",
    "# create vraible 'days_before_lost' for the # of days before we lose the patient for any reasons\n",
    "data['days_before_lost'] = (data['DN_date'] - data['chir_date']).dt.days"
   ]
  },
  {
   "cell_type": "markdown",
   "metadata": {},
   "source": [
    "### Survival function, hazard function\n",
    "- Survival function S(t) represents the probability of a subject survives beyond time t  \n",
    "- Hazard function h(t) represents the probability of a subject survives at time t+1 if he is alive at time t  "
   ]
  },
  {
   "cell_type": "code",
   "execution_count": 125,
   "metadata": {},
   "outputs": [],
   "source": [
    "max_year = int(data['obs_days'].max()/365)+1\n",
    "survival_df = pd.DataFrame([],columns = ['censored','dead','still_in','survival','hazard'])\n",
    "survival_df.loc[0] = [0,0,len(data.index),1.0,1.0]\n",
    "for yr in range(1,max_year+1):\n",
    "    start_day = (yr-1)*365\n",
    "    end_day = (yr)*365\n",
    "    delta_censored = (((data['days_before_death'].isna()) & (data['days_before_lost'] >= start_day) & (data['days_before_lost'] < end_day)) |\n",
    "                      ((data['days_before_death'].isna()) & (data['days_before_lost'].isna()) & (data['obs_days'] >= start_day) & (data['obs_days'] < end_day))).sum()\n",
    "    delta_dead = ((data['days_before_death'] >= start_day) & (data['days_before_death'] < end_day)).sum()\n",
    "    censored = survival_df.loc[yr-1,'censored'] + delta_censored\n",
    "    dead = survival_df.loc[yr-1,'dead'] + delta_dead\n",
    "    still_in = survival_df.loc[yr-1,'still_in']  - delta_censored - delta_dead\n",
    "    if survival_df.loc[yr-1,'still_in'] == 0:\n",
    "        hazard = 1.0\n",
    "    else:\n",
    "        hazard = 1 - delta_dead / survival_df.loc[yr-1,'still_in']\n",
    "    if survival_df.loc[yr-1,'still_in'] == delta_censored:\n",
    "        survival = 0.0\n",
    "    else:\n",
    "        survival = survival_df.loc[yr-1,'survival'] * ( (survival_df.loc[yr-1,'still_in'] - delta_censored - delta_dead) / (survival_df.loc[yr-1,'still_in'] - delta_censored))\n",
    "    survival_df.loc[yr] = [censored,dead, still_in, survival, hazard]\n",
    "\n",
    "# below are codes used to do sanity check\n",
    "# print(data.shape)\n",
    "# print(survival_df.head(15))\n",
    "# (~data['days_before_death'].isna()).sum() # for number of subjects already dead during the whole observation period\n",
    "# ((data['days_before_death']/365).dropna()).astype('int').value_counts() # to cross check with survival_df['dead']\n"
   ]
  },
  {
   "cell_type": "code",
   "execution_count": 126,
   "metadata": {},
   "outputs": [
    {
     "data": {
      "image/png": "[encoded data removed]",
      "text/plain": [
       "<Figure size 720x360 with 1 Axes>"
      ]
     },
     "metadata": {
      "needs_background": "light"
     },
     "output_type": "display_data"
    }
   ],
   "source": [
    "plt.figure(figsize = (10,5))\n",
    "survival_df['survival'].plot()\n",
    "survival_df['hazard'].plot()\n",
    "plt.legend()\n",
    "plt.title('Survival function and hazard function')\n",
    "plt.show()"
   ]
  },
  {
   "cell_type": "code",
   "execution_count": 128,
   "metadata": {},
   "outputs": [
    {
     "data": {
      "image/png": "[encoded data removed]",
      "text/plain": [
       "<Figure size 720x360 with 1 Axes>"
      ]
     },
     "metadata": {
      "needs_background": "light"
     },
     "output_type": "display_data"
    }
   ],
   "source": [
    "plt.figure(figsize = (10,5))\n",
    "p3 = plt.bar(survival_df.index.to_list(),survival_df['censored'],bottom = (survival_df['dead'] + survival_df['still_in']),alpha = 0.8)\n",
    "p2 = plt.bar(survival_df.index.to_list(),survival_df['dead'],bottom = survival_df['still_in'],alpha = 0.8)\n",
    "p1 = plt.bar(survival_df.index.to_list(),survival_df['still_in'],alpha = 0.8)\n",
    "plt.legend((p1[0],p2[0],p3[0]),('still_in','dead','censored'))\n",
    "plt.title('Total population structure evolution per year')\n",
    "plt.show()"
   ]
  },
  {
   "cell_type": "code",
   "execution_count": null,
   "metadata": {},
   "outputs": [],
   "source": []
  }
 ],
 "metadata": {
  "kernelspec": {
   "display_name": "Python 3",
   "language": "python",
   "name": "python3"
  },
  "language_info": {
   "codemirror_mode": {
    "name": "ipython",
    "version": 3
   },
   "file_extension": ".py",
   "mimetype": "text/x-python",
   "name": "python",
   "nbconvert_exporter": "python",
   "pygments_lexer": "ipython3",
   "version": "3.7.6"
  }
 },
 "nbformat": 4,
 "nbformat_minor": 4
}
