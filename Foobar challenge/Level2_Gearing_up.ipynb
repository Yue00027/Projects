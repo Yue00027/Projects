{
 "cells": [
  {
   "cell_type": "code",
   "execution_count": 1,
   "metadata": {},
   "outputs": [
    {
     "name": "stdout",
     "output_type": "stream",
     "text": [
      "n is even and D_n is a 3-multiple:\n",
      "r_1= 24.0\n"
     ]
    },
    {
     "data": {
      "text/plain": [
       "[24, 1]"
      ]
     },
     "execution_count": 1,
     "metadata": {},
     "output_type": "execute_result"
    }
   ],
   "source": [
    "##########\n",
    "## foobar competition level 2\n",
    "##########\n",
    "\n",
    "def solution(pegs):\n",
    "\n",
    "    import numpy as np\n",
    "    from numpy.linalg import inv\n",
    "    \n",
    "    n = len(pegs)\n",
    "    \n",
    "# === Step 1. quick test if there is a soution ====\n",
    "# Ojbective: test if all r >= 1 r = matrix^(-1)*d\n",
    "\n",
    "    p = np.array(pegs)\n",
    "    d = np.subtract(p[1:],p[:(n-1)])\n",
    "    d = np.append(d,0)\n",
    "\n",
    "    matrix = np.identity(n)\n",
    "    matrix[n-1][0] = 1\n",
    "    matrix[n-1][n-1]=-2\n",
    "    temp1 = np.identity(n-1)\n",
    "    temp2 = np.zeros((n,n))\n",
    "    temp2[:n-1,1:] = temp1\n",
    "    matrix = matrix + temp2\n",
    "    # matrix\n",
    "\n",
    "    r = np.matmul(inv(matrix),np.transpose(d))\n",
    "    if (np.sum(r >= 1) < n):\n",
    "        return [-1,-1]\n",
    "    else:\n",
    "        \n",
    "# === Step 2. calculate r_n and r_1 ====\n",
    "# Objective: if n is odd, r_n = D_n if n is even, r_n = 1/3 * D_n\n",
    "# define D based on d\n",
    "        li = range(n)\n",
    "        temp = list(map(lambda x: (-1)**x , li)) \n",
    "        D = np.multiply(d,temp)\n",
    "        D_n = np.sum(D[:(n-1)])\n",
    "\n",
    "        if n%2 == 1:\n",
    "            r_n = D_n\n",
    "            r_1 = 2*r_n\n",
    "            print('n is odd: \\nr_1=',r_1,' r_n=',r_n)\n",
    "            return [r_1,1]\n",
    "        else:\n",
    "            if D_n%3 == 0:\n",
    "                r_1 = D_n/3*2\n",
    "                print('n is even and D_n is a 3-multiple:\\nr_1=',r_1)\n",
    "                return [int(r_1),1]\n",
    "            else:\n",
    "                print('n is even and D_n is not a 3-multiple, return :',2*D_n,' ,',3)\n",
    "                return [int(2*D_n),3]\n",
    "                \n",
    "\n",
    "pegs_3 = [4,30,50,79]\n",
    "pegs_2 = [4,30,50,80]\n",
    "pegs_1 = [4,30,50]\n",
    "pegs_0 = [4,17,50]\n",
    "    \n",
    "pegs = pegs_2\n",
    "solution(pegs)"
   ]
  }
 ],
 "metadata": {
  "kernelspec": {
   "display_name": "Python 3",
   "language": "python",
   "name": "python3"
  },
  "language_info": {
   "codemirror_mode": {
    "name": "ipython",
    "version": 3
   },
   "file_extension": ".py",
   "mimetype": "text/x-python",
   "name": "python",
   "nbconvert_exporter": "python",
   "pygments_lexer": "ipython3",
   "version": "3.7.6"
  }
 },
 "nbformat": 4,
 "nbformat_minor": 4
}
